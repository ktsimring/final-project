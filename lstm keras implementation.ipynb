{
 "cells": [
  {
   "cell_type": "code",
   "execution_count": 1,
   "metadata": {},
   "outputs": [
    {
     "name": "stderr",
     "output_type": "stream",
     "text": [
      "/opt/conda/lib/python2.7/site-packages/h5py/__init__.py:36: FutureWarning: Conversion of the second argument of issubdtype from `float` to `np.floating` is deprecated. In future, it will be treated as `np.float64 == np.dtype(float).type`.\n",
      "  from ._conv import register_converters as _register_converters\n",
      "Using TensorFlow backend.\n"
     ]
    }
   ],
   "source": [
    "from pandas import DataFrame\n",
    "from pandas import Series\n",
    "from pandas import concat\n",
    "from pandas import read_csv\n",
    "from pandas import datetime\n",
    "from sklearn.metrics import mean_squared_error\n",
    "from sklearn.preprocessing import MinMaxScaler\n",
    "from keras.models import Sequential\n",
    "from keras.layers import Dense\n",
    "from keras.layers import LSTM\n",
    "from math import sqrt\n",
    "from matplotlib import pyplot\n",
    "import numpy\n",
    "import pyedflib\n",
    "import numpy as np\n",
    "import matplotlib.pyplot as plt\n",
    "import time\n",
    "start_time = time.time()\n",
    "# date-time parsing function for loading the dataset\n",
    "def parser(x):\n",
    "    return datetime.strptime('190'+x, '%Y-%m')\n",
    " \n",
    "# frame a sequence as a supervised learning problem\n",
    "def timeseries_to_supervised(data, lag=1):\n",
    "    df = DataFrame(data)\n",
    "    columns = [df.shift(i) for i in range(1, lag+1)]\n",
    "    columns.append(df)\n",
    "    df = concat(columns, axis=1)\n",
    "    df.fillna(0, inplace=True)\n",
    "    return df\n",
    " \n",
    "# create a differenced series\n",
    "def difference(dataset, interval=1):\n",
    "    diff = list()\n",
    "    for i in range(interval, len(dataset)):\n",
    "        value = dataset[i] - dataset[i - interval]\n",
    "        diff.append(value)\n",
    "    return Series(diff)\n",
    " \n",
    "# invert differenced value\n",
    "def inverse_difference(history, yhat, interval=1):\n",
    "\treturn yhat + history[-interval]\n",
    " \n",
    "# scale train and test data to [-1, 1]\n",
    "def scale(train, test):\n",
    "\t# fit scaler\n",
    "\tscaler = MinMaxScaler(feature_range=(-1, 1))\n",
    "\tscaler = scaler.fit(train)\n",
    "\t# transform train\n",
    "\ttrain = train.reshape(train.shape[0], train.shape[1])\n",
    "\ttrain_scaled = scaler.transform(train)\n",
    "\t# transform test\n",
    "\ttest = test.reshape(test.shape[0], test.shape[1])\n",
    "\ttest_scaled = scaler.transform(test)\n",
    "\treturn scaler, train_scaled, test_scaled\n",
    " \n",
    "# inverse scaling for a forecasted value\n",
    "def invert_scale(scaler, X, value):\n",
    "\tnew_row = [x for x in X] + [value]\n",
    "\tarray = numpy.array(new_row)\n",
    "\tarray = array.reshape(1, len(array))\n",
    "\tinverted = scaler.inverse_transform(array)\n",
    "\treturn inverted[0, -1]\n",
    " \n",
    "# fit an LSTM network to training data\n",
    "def fit_lstm(train, batch_size, nb_epoch, neurons):\n",
    "\tX, y = train[:, 0:-1], train[:, -1]\n",
    "\tX = X.reshape(X.shape[0], 1, X.shape[1])\n",
    "\tmodel = Sequential()\n",
    "\tmodel.add(LSTM(neurons, batch_input_shape=(batch_size, X.shape[1], X.shape[2]), stateful=True))\n",
    "\tmodel.add(Dense(1))\n",
    "\tmodel.compile(loss='mean_squared_error', optimizer='adam')\n",
    "\tfor i in range(nb_epoch):\n",
    "\t\tmodel.fit(X, y, epochs=1, batch_size=batch_size, verbose=0, shuffle=False)\n",
    "\t\tmodel.reset_states()\n",
    "\treturn model\n",
    " \n",
    "# make a one-step forecast\n",
    "def forecast_lstm(model, batch_size, X):\n",
    "\tX = X.reshape(1, 1, len(X))\n",
    "\tyhat = model.predict(X, batch_size=batch_size)\n",
    "\treturn yhat[0,0]\n",
    " "
   ]
  },
  {
   "cell_type": "code",
   "execution_count": 2,
   "metadata": {},
   "outputs": [
    {
     "name": "stdout",
     "output_type": "stream",
     "text": [
      "--- 2.85133981705 seconds ---\n"
     ]
    }
   ],
   "source": [
    "# load dataset\n",
    "g = pyedflib.EdfReader('sample-data/SC4001E0-PSG.edf')\n",
    "n = g.signals_in_file\n",
    "signal_labels = g.getSignalLabels()\n",
    "sigbufs = np.zeros((n, g.getNSamples()[0]))\n",
    "for i in np.arange(n):\n",
    "    len_sig = len(g.readSignal(i))\n",
    "    sigbufs[i, :len_sig] = g.readSignal(i)\n",
    "print(\"--- %s seconds ---\" % (time.time() - start_time))"
   ]
  },
  {
   "cell_type": "code",
   "execution_count": 3,
   "metadata": {},
   "outputs": [
    {
     "name": "stdout",
     "output_type": "stream",
     "text": [
      "(99, 7950000)\n",
      "--- 2.88343095779 seconds ---\n"
     ]
    },
    {
     "data": {
      "image/png": "[encoded data removed]",
      "text/plain": [
       "<Figure size 432x288 with 1 Axes>"
      ]
     },
     "metadata": {},
     "output_type": "display_data"
    }
   ],
   "source": [
    "# transform data to be stationary\n",
    "diff_values = difference(sigbufs[0][:100], 1)\n",
    "plt.plot(range(sigbufs[0][:100].shape[0]), sigbufs[0][:100])\n",
    "plt.plot(range(len(diff_values)), diff_values)\n",
    "print(len(diff_values), sigbufs[0].shape[0])\n",
    "print(\"--- %s seconds ---\" % (time.time() - start_time))"
   ]
  },
  {
   "cell_type": "code",
   "execution_count": 11,
   "metadata": {},
   "outputs": [
    {
     "name": "stdout",
     "output_type": "stream",
     "text": [
      "--- 3837.28752899 seconds ---\n"
     ]
    }
   ],
   "source": [
    "# transform data to be supervised learning\n",
    "supervised = timeseries_to_supervised(diff_values, 1)\n",
    "supervised_values = supervised.values\n",
    "\n",
    "print(\"--- %s seconds ---\" % (time.time() - start_time))"
   ]
  },
  {
   "cell_type": "code",
   "execution_count": 12,
   "metadata": {},
   "outputs": [
    {
     "name": "stdout",
     "output_type": "stream",
     "text": [
      "--- 3840.59761286 seconds ---\n"
     ]
    }
   ],
   "source": [
    "# split data into train and test-sets\n",
    "train, test = supervised_values[0:-30], supervised_values[-30:]\n",
    " \n",
    "# transform the scale of the data\n",
    "scaler, train_scaled, test_scaled = scale(train, test)\n",
    "print(\"--- %s seconds ---\" % (time.time() - start_time))"
   ]
  },
  {
   "cell_type": "code",
   "execution_count": 13,
   "metadata": {},
   "outputs": [
    {
     "name": "stdout",
     "output_type": "stream",
     "text": [
      "(30, 2)\n"
     ]
    }
   ],
   "source": [
    "print(test_scaled.shape)"
   ]
  },
  {
   "cell_type": "code",
   "execution_count": 15,
   "metadata": {
    "scrolled": true
   },
   "outputs": [
    {
     "name": "stdout",
     "output_type": "stream",
     "text": [
      "--- 4055.31156492 seconds ---\n"
     ]
    }
   ],
   "source": [
    "# fit the model\n",
    "lstm_model = fit_lstm(train_scaled, 1, 300, 4)\n",
    "print(\"--- %s seconds ---\" % (time.time() - start_time))\n"
   ]
  },
  {
   "cell_type": "code",
   "execution_count": 16,
   "metadata": {
    "scrolled": false
   },
   "outputs": [
    {
     "name": "stdout",
     "output_type": "stream",
     "text": [
      "(array([[ 0.15436242, -0.93288591],\n",
      "       [-0.93288591,  0.71812081],\n",
      "       [ 0.71812081, -0.38255034],\n",
      "       [-0.38255034, -0.24832215],\n",
      "       [-0.24832215, -0.16778523],\n",
      "       [-0.16778523,  0.03355705],\n",
      "       [ 0.03355705,  0.3557047 ],\n",
      "       [ 0.3557047 ,  0.61073826],\n",
      "       [ 0.61073826,  0.54362416],\n",
      "       [ 0.54362416,  0.61073826],\n",
      "       [ 0.61073826,  0.12751678],\n",
      "       [ 0.12751678,  0.10067114],\n",
      "       [ 0.10067114, -0.46308725],\n",
      "       [-0.46308725,  0.42281879],\n",
      "       [ 0.42281879,  0.46308725],\n",
      "       [ 0.46308725,  0.36912752],\n",
      "       [ 0.36912752, -0.5704698 ],\n",
      "       [-0.5704698 ,  0.54362416],\n",
      "       [ 0.54362416,  0.91946309],\n",
      "       [ 0.91946309, -0.93288591],\n",
      "       [-0.93288591, -0.03355705],\n",
      "       [-0.03355705,  1.        ],\n",
      "       [ 1.        ,  0.86577181],\n",
      "       [ 0.86577181, -0.54362416],\n",
      "       [-0.54362416, -0.40939597],\n",
      "       [-0.40939597,  0.02013423],\n",
      "       [ 0.02013423, -0.53020134],\n",
      "       [-0.53020134,  0.03355705],\n",
      "       [ 0.03355705,  0.54362416],\n",
      "       [ 0.54362416, -0.95973154],\n",
      "       [-0.95973154,  0.63758389],\n",
      "       [ 0.63758389, -0.2885906 ],\n",
      "       [-0.2885906 ,  0.73154362],\n",
      "       [ 0.73154362, -1.        ],\n",
      "       [-1.        , -0.53020134],\n",
      "       [-0.53020134, -0.20805369],\n",
      "       [-0.20805369,  0.5033557 ],\n",
      "       [ 0.5033557 ,  0.30201342],\n",
      "       [ 0.30201342, -0.3557047 ],\n",
      "       [-0.3557047 , -0.18120805],\n",
      "       [-0.18120805,  0.22147651],\n",
      "       [ 0.22147651,  0.08724832],\n",
      "       [ 0.08724832,  0.0738255 ],\n",
      "       [ 0.0738255 ,  0.70469799],\n",
      "       [ 0.70469799,  0.20805369],\n",
      "       [ 0.20805369,  0.2885906 ],\n",
      "       [ 0.2885906 ,  0.85234899],\n",
      "       [ 0.85234899,  0.23489933],\n",
      "       [ 0.23489933,  0.82550336],\n",
      "       [ 0.82550336,  0.12751678],\n",
      "       [ 0.12751678, -0.39597315],\n",
      "       [-0.39597315,  0.18120805],\n",
      "       [ 0.18120805,  0.26174497],\n",
      "       [ 0.26174497, -0.15436242],\n",
      "       [-0.15436242,  0.08724832],\n",
      "       [ 0.08724832,  0.77181208],\n",
      "       [ 0.77181208,  0.69127517],\n",
      "       [ 0.69127517,  0.5704698 ],\n",
      "       [ 0.5704698 , -0.26174497],\n",
      "       [-0.26174497,  0.36912752],\n",
      "       [ 0.36912752,  0.00671141],\n",
      "       [ 0.00671141,  0.59731544],\n",
      "       [ 0.59731544,  0.55704698],\n",
      "       [ 0.55704698,  0.26174497],\n",
      "       [ 0.26174497, -0.39597315],\n",
      "       [-0.39597315,  0.12751678],\n",
      "       [ 0.12751678,  0.38255034],\n",
      "       [ 0.38255034,  0.04697987],\n",
      "       [ 0.04697987,  0.03355705]]), array([[[ 0.15436242]],\n",
      "\n",
      "       [[-0.93288591]],\n",
      "\n",
      "       [[ 0.71812081]],\n",
      "\n",
      "       [[-0.38255034]],\n",
      "\n",
      "       [[-0.24832215]],\n",
      "\n",
      "       [[-0.16778523]],\n",
      "\n",
      "       [[ 0.03355705]],\n",
      "\n",
      "       [[ 0.3557047 ]],\n",
      "\n",
      "       [[ 0.61073826]],\n",
      "\n",
      "       [[ 0.54362416]],\n",
      "\n",
      "       [[ 0.61073826]],\n",
      "\n",
      "       [[ 0.12751678]],\n",
      "\n",
      "       [[ 0.10067114]],\n",
      "\n",
      "       [[-0.46308725]],\n",
      "\n",
      "       [[ 0.42281879]],\n",
      "\n",
      "       [[ 0.46308725]],\n",
      "\n",
      "       [[ 0.36912752]],\n",
      "\n",
      "       [[-0.5704698 ]],\n",
      "\n",
      "       [[ 0.54362416]],\n",
      "\n",
      "       [[ 0.91946309]],\n",
      "\n",
      "       [[-0.93288591]],\n",
      "\n",
      "       [[-0.03355705]],\n",
      "\n",
      "       [[ 1.        ]],\n",
      "\n",
      "       [[ 0.86577181]],\n",
      "\n",
      "       [[-0.54362416]],\n",
      "\n",
      "       [[-0.40939597]],\n",
      "\n",
      "       [[ 0.02013423]],\n",
      "\n",
      "       [[-0.53020134]],\n",
      "\n",
      "       [[ 0.03355705]],\n",
      "\n",
      "       [[ 0.54362416]],\n",
      "\n",
      "       [[-0.95973154]],\n",
      "\n",
      "       [[ 0.63758389]],\n",
      "\n",
      "       [[-0.2885906 ]],\n",
      "\n",
      "       [[ 0.73154362]],\n",
      "\n",
      "       [[-1.        ]],\n",
      "\n",
      "       [[-0.53020134]],\n",
      "\n",
      "       [[-0.20805369]],\n",
      "\n",
      "       [[ 0.5033557 ]],\n",
      "\n",
      "       [[ 0.30201342]],\n",
      "\n",
      "       [[-0.3557047 ]],\n",
      "\n",
      "       [[-0.18120805]],\n",
      "\n",
      "       [[ 0.22147651]],\n",
      "\n",
      "       [[ 0.08724832]],\n",
      "\n",
      "       [[ 0.0738255 ]],\n",
      "\n",
      "       [[ 0.70469799]],\n",
      "\n",
      "       [[ 0.20805369]],\n",
      "\n",
      "       [[ 0.2885906 ]],\n",
      "\n",
      "       [[ 0.85234899]],\n",
      "\n",
      "       [[ 0.23489933]],\n",
      "\n",
      "       [[ 0.82550336]],\n",
      "\n",
      "       [[ 0.12751678]],\n",
      "\n",
      "       [[-0.39597315]],\n",
      "\n",
      "       [[ 0.18120805]],\n",
      "\n",
      "       [[ 0.26174497]],\n",
      "\n",
      "       [[-0.15436242]],\n",
      "\n",
      "       [[ 0.08724832]],\n",
      "\n",
      "       [[ 0.77181208]],\n",
      "\n",
      "       [[ 0.69127517]],\n",
      "\n",
      "       [[ 0.5704698 ]],\n",
      "\n",
      "       [[-0.26174497]],\n",
      "\n",
      "       [[ 0.36912752]],\n",
      "\n",
      "       [[ 0.00671141]],\n",
      "\n",
      "       [[ 0.59731544]],\n",
      "\n",
      "       [[ 0.55704698]],\n",
      "\n",
      "       [[ 0.26174497]],\n",
      "\n",
      "       [[-0.39597315]],\n",
      "\n",
      "       [[ 0.12751678]],\n",
      "\n",
      "       [[ 0.38255034]],\n",
      "\n",
      "       [[ 0.04697987]]]))\n"
     ]
    }
   ],
   "source": [
    "# forecast the entire training dataset to build up state for forecasting\n",
    "train_reshaped = train_scaled[:, 0].reshape(len(train_scaled), 1, 1)\n",
    "print(train_scaled, train_reshaped)"
   ]
  },
  {
   "cell_type": "code",
   "execution_count": 19,
   "metadata": {},
   "outputs": [
    {
     "name": "stdout",
     "output_type": "stream",
     "text": [
      "--- 4187.521101 seconds ---\n",
      "Month=1, Predicted=-4.839144, Expected=-3.797802\n",
      "Month=2, Predicted=-2.803107, Expected=-0.703297\n",
      "Month=3, Predicted=0.131985, Expected=-3.797802\n",
      "Month=4, Predicted=-2.677995, Expected=-5.016850\n",
      "Month=5, Predicted=-3.759050, Expected=-2.953846\n",
      "Month=6, Predicted=-1.829256, Expected=-1.547253\n",
      "Month=7, Predicted=-0.462673, Expected=-1.453480\n",
      "Month=8, Predicted=-0.285630, Expected=-3.235165\n",
      "Month=9, Predicted=-1.899422, Expected=-0.609524\n",
      "Month=10, Predicted=0.562515, Expected=-4.360440\n",
      "Month=11, Predicted=-2.974981, Expected=-3.610256\n",
      "Month=12, Predicted=-2.280546, Expected=-2.484982\n",
      "Month=13, Predicted=-1.236950, Expected=-0.328205\n",
      "Month=14, Predicted=0.793800, Expected=-0.890842\n",
      "Month=15, Predicted=0.338054, Expected=-1.359707\n",
      "Month=16, Predicted=-0.045349, Expected=-8.861538\n",
      "Month=17, Predicted=-7.358262, Expected=-10.455678\n",
      "Month=18, Predicted=-8.995020, Expected=-7.173626\n",
      "Month=19, Predicted=-6.152902, Expected=-6.142125\n",
      "Month=20, Predicted=-5.247697, Expected=-5.298168\n",
      "Month=21, Predicted=-4.457794, Expected=-5.298168\n",
      "Month=22, Predicted=-4.424797, Expected=-6.048352\n",
      "Month=23, Predicted=-5.096009, Expected=-1.172161\n",
      "Month=24, Predicted=-0.658426, Expected=3.610256\n",
      "Month=25, Predicted=3.804405, Expected=2.953846\n",
      "Month=26, Predicted=3.407352, Expected=-7.830037\n",
      "Month=27, Predicted=-7.026749, Expected=-26.584615\n",
      "Month=28, Predicted=-25.951412, Expected=-14.394139\n",
      "Month=29, Predicted=-15.886303, Expected=-49.183883\n",
      "Month=30, Predicted=-50.548893, Expected=-63.812454\n",
      "--- 4187.57738996 seconds ---\n"
     ]
    }
   ],
   "source": [
    "lstm_model.predict(train_reshaped, batch_size=1)\n",
    "raw_values = sigbufs[0][:100]\n",
    "print(\"--- %s seconds ---\" % (time.time() - start_time))\n",
    "# walk-forward validation on the test data\n",
    "predictions = list()\n",
    "for i in range(len(test_scaled)):\n",
    "\t# make one-step forecast\n",
    "\tX, y = test_scaled[i, 0:-1], test_scaled[i, -1]\n",
    "\tyhat = forecast_lstm(lstm_model, 1, X)\n",
    "\t# invert scaling\n",
    "\tyhat = invert_scale(scaler, X, yhat)\n",
    "\t# invert differencing\n",
    "\tyhat = inverse_difference(raw_values, yhat, len(test_scaled)+1-i)\n",
    "\t# store forecast\n",
    "\tpredictions.append(yhat)\n",
    "\texpected = raw_values[len(train) + i + 1]\n",
    "\tprint('Month=%d, Predicted=%f, Expected=%f' % (i+1, yhat, expected))\n",
    "print(\"--- %s seconds ---\" % (time.time() - start_time))"
   ]
  },
  {
   "cell_type": "code",
   "execution_count": 21,
   "metadata": {},
   "outputs": [
    {
     "name": "stdout",
     "output_type": "stream",
     "text": [
      "Test RMSE: 8.416\n"
     ]
    },
    {
     "data": {
      "image/png": "[encoded data removed]",
      "text/plain": [
       "<Figure size 432x288 with 1 Axes>"
      ]
     },
     "metadata": {},
     "output_type": "display_data"
    },
    {
     "name": "stdout",
     "output_type": "stream",
     "text": [
      "--- 4222.46997786 seconds ---\n"
     ]
    }
   ],
   "source": [
    "# report performance\n",
    "rmse = sqrt(mean_squared_error(raw_values[-30:], predictions))\n",
    "print('Test RMSE: %.3f' % rmse)\n",
    "# line plot of observed vs predicted\n",
    "pyplot.plot(raw_values[-12:])\n",
    "pyplot.plot(predictions)\n",
    "pyplot.show()\n",
    "print(\"--- %s seconds ---\" % (time.time() - start_time))"
   ]
  },
  {
   "cell_type": "code",
   "execution_count": null,
   "metadata": {},
   "outputs": [],
   "source": []
  },
  {
   "cell_type": "code",
   "execution_count": null,
   "metadata": {},
   "outputs": [],
   "source": []
  }
 ],
 "metadata": {
  "kernelspec": {
   "display_name": "Python 2",
   "language": "python",
   "name": "python2"
  },
  "language_info": {
   "codemirror_mode": {
    "name": "ipython",
    "version": 2
   },
   "file_extension": ".py",
   "mimetype": "text/x-python",
   "name": "python",
   "nbconvert_exporter": "python",
   "pygments_lexer": "ipython2",
   "version": "2.7.14"
  }
 },
 "nbformat": 4,
 "nbformat_minor": 2
}
